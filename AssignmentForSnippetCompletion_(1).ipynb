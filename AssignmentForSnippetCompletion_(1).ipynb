{
  "nbformat": 4,
  "nbformat_minor": 5,
  "metadata": {
    "colab": {
      "name": "AssignmentForSnippetCompletion (1).ipynb",
      "provenance": [],
      "include_colab_link": true
    },
    "kernelspec": {
      "display_name": "Python 3 (ipykernel)",
      "language": "python",
      "name": "python3"
    },
    "language_info": {
      "codemirror_mode": {
        "name": "ipython",
        "version": 3
      },
      "file_extension": ".py",
      "mimetype": "text/x-python",
      "name": "python",
      "nbconvert_exporter": "python",
      "pygments_lexer": "ipython3",
      "version": "3.9.6"
    }
  },
  "cells": [
    {
      "cell_type": "markdown",
      "metadata": {
        "id": "view-in-github",
        "colab_type": "text"
      },
      "source": [
        "<a href=\"https://colab.research.google.com/github/Jeevan4456/TSSpython_200040068/blob/main/AssignmentForSnippetCompletion_(1).ipynb\" target=\"_parent\"><img src=\"https://colab.research.google.com/assets/colab-badge.svg\" alt=\"Open In Colab\"/></a>"
      ]
    },
    {
      "cell_type": "markdown",
      "metadata": {
        "id": "mwY8-ebWnn8k"
      },
      "source": [
        "# Assignment: Complete the Snippet\n"
      ],
      "id": "mwY8-ebWnn8k"
    },
    {
      "cell_type": "markdown",
      "metadata": {
        "id": "98h1wLbDnn8n"
      },
      "source": [
        "Shubh started building a basic Python Script which goes through the entire text of a particular book and mugs up all its words. After that it asks you for a word, goes over the times when this word came in the text and gives you the complete sentence in which it was used. You may choose to ask for as many such sentences as the number of occurences of the word.\n",
        "\n",
        "He's managed to come up with the part where he loads the file into Memory. He also managed to come up with snippets of code which could potentially do something if completed, but he has many deadlines to look after and not enough caffeine to turn to code. Can you help him?"
      ],
      "id": "98h1wLbDnn8n"
    },
    {
      "cell_type": "code",
      "metadata": {
        "id": "W2FPoG_Lnn8n"
      },
      "source": [
        "File = open(\"/content/HarryPotterAndTheSorcerersStone.txt\",encoding= 'UTF - 8')     #This helps in opening the file which is to be read"
      ],
      "id": "W2FPoG_Lnn8n",
      "execution_count": 17,
      "outputs": []
    },
    {
      "cell_type": "markdown",
      "metadata": {
        "id": "6n2G1L6qnn8o"
      },
      "source": [
        "Next he makes a list of all the words present in the novel mapping them to their index(position) in the list of words (i.e. ListOfWords). This is done by mapping every word (a string) to a list (list of indices), and this is stored as a Dictionary (DictionaryoOfWords)\n",
        "\n",
        "\n",
        "\n",
        "He makes use of the readlines() method which is used to extract all the lines from any text and the split() function which could be used to split any sentence into distinct words. The replace() method is used on strings to replace certain segments of the string with something else."
      ],
      "id": "6n2G1L6qnn8o"
    },
    {
      "cell_type": "code",
      "metadata": {
        "id": "wuz-iSaonn8o"
      },
      "source": [
        "DictionaryOfWords = {}         #Dictionary mapping every word to a list (of indices of the words' occurences)\n",
        "Novel = []                     #List of all words in the order, in which they appear!\n",
        "\n",
        "\n",
        "\n",
        "i = 0                   #Counter Variable to keep track of index of words\n",
        "\n",
        "for line in File.readlines():     #Iterate over all lines present in the text\n",
        "    \n",
        "    #Look at Python's Conciseness!\n",
        "    \n",
        "    line = line.replace(\".\",\"\").replace(\",\",\"\").replace('?','').replace('!','').replace('[','').replace(']','')\\\n",
        "    .replace('(','').replace(')','').replace('%','').replace('/','')\n",
        "      \n",
        "    #COMPLETE THE CODE FROM HERE:\n",
        "    \n",
        "    #This would split the line into many different words, and iterate over these words\n",
        "    \n",
        "    for word in line.split(' '): \n",
        "                                                                             \n",
        "        if word in DictionaryOfWords.keys():     #If the word is already present in the dictionary\n",
        "                                                                             \n",
        "              DictionaryOfWords[word].append(i)      #Add the index into the pre-existing list for this word\n",
        "                                                                             \n",
        "        else:\n",
        "              DictionaryOfWords[word]=[i]     #Create a new list of indices for this word, with a single element\n",
        "                                                                             \n",
        "    \n",
        "        Novel.append(word)        #Add the Word in the Novel's ordered list of words\n",
        "                                                                             \n",
        "        i+=1"
      ],
      "id": "wuz-iSaonn8o",
      "execution_count": 33,
      "outputs": []
    },
    {
      "cell_type": "code",
      "metadata": {
        "id": "5a949736"
      },
      "source": [
        "That guy truly left a lot of work for you!\n",
        "\n",
        "Now that you've done that, We have the words in the novel alongwith where they appeared in the text loaded into memory (Thanks to You!).\n",
        "\n",
        "The Next Step would be to answer any queries the user may have.\n",
        "\n",
        "To do this, we define the function GetQuery() which returns the word as well as the number of results the user wants to see (as a tuple):\n",
        "\n"
      ],
      "id": "5a949736",
      "execution_count": null,
      "outputs": []
    },
    {
      "cell_type": "code",
      "metadata": {
        "id": "rZdPHcyZnn8p"
      },
      "source": [
        "#COMPLETE THE CODE FROM HERE:\n",
        "\n",
        "def GetQuery():\n",
        "    global word\n",
        "    global Number\n",
        "    word = input(\"Enter a word \")        #Get Input from the user regarding what word s/he wants to query for\n",
        "\n",
        "    Number = input(\"Enter a no. \")      #Get Input from the user regarding how many results the user wants to see\n",
        "\n",
        "    return (word,Number)                 #Return as output a tuple of the word and the Number of results       "
      ],
      "id": "rZdPHcyZnn8p",
      "execution_count": 34,
      "outputs": []
    },
    {
      "cell_type": "code",
      "metadata": {
        "id": "0d0a11bb"
      },
      "source": [
        "Now, We need a function which takes as input the index of any particular word and prints the words surrounding it as if they were in an actual sentence. \n",
        "\n",
        "This is done by iterating over the words surrounding it, and printing them with gaps in between. We also assume that this occurence isn't a boundary case and thus, the 10 words surronding it actually exist."
      ],
      "id": "0d0a11bb",
      "execution_count": null,
      "outputs": []
    },
    {
      "cell_type": "code",
      "metadata": {
        "id": "NFjuNsIjnn8q"
      },
      "source": [
        "def PrintContext(index):\n",
        "    \n",
        "    global Novel                          #Declares the list Novel as a Global Variable\n",
        "    \n",
        "    #COMPLETE THE CODE FROM HERE:\n",
        "    \n",
        "    for i in range(index-5,index+6) :           #Define the range so that the task above is fulfilled\n",
        "        \n",
        "        print(Novel[i], end = ' ')          #Print the word (using List Indexing) with a space after that\n",
        "        \n",
        "    print('\\n')"
      ],
      "id": "NFjuNsIjnn8q",
      "execution_count": 35,
      "outputs": []
    },
    {
      "cell_type": "code",
      "metadata": {
        "id": "8e1bc125"
      },
      "source": [
        "The result of the GetQuery() function will be passed into a second function which would take as input the word and the number of results to be displayed and do so!"
      ],
      "id": "8e1bc125",
      "execution_count": null,
      "outputs": []
    },
    {
      "cell_type": "code",
      "metadata": {
        "id": "lJe_w2C0nn8r"
      },
      "source": [
        "def PrintResult(word, NumQuery):\n",
        "  \n",
        "    global DictionaryOfWords                #Allows us to use the Dictionary as a global variable\n",
        "    \n",
        "    #COMPLETE THE CODE FROM HERE:\n",
        "    \n",
        "    L = DictionaryOfWords[word] \n",
        "    \n",
        "    for i in range(0,min(len(L),int(NumQuery))):\n",
        "        \n",
        "        PrintContext(DictionaryOfWords[word][i])             #Actually print the words surrounding the ith occurence of the given word"
      ],
      "id": "lJe_w2C0nn8r",
      "execution_count": 36,
      "outputs": []
    },
    {
      "cell_type": "code",
      "metadata": {
        "id": "19af3bb3"
      },
      "source": [
        "Finally, you need an infinite loop which runs until the user wants it to and asks for the next word (if the user wants to query more) or end the loop."
      ],
      "id": "19af3bb3",
      "execution_count": null,
      "outputs": []
    },
    {
      "cell_type": "code",
      "metadata": {
        "id": "b5LvL0TQnn8s",
        "colab": {
          "base_uri": "https://localhost:8080/"
        },
        "outputId": "d366b0fd-9bf2-4acb-a167-bc2af543cc78"
      },
      "source": [
        "while 1>0 :   \n",
        "    \n",
        "    Choice = input('Press Y to query or N to end')\n",
        "    \n",
        "    #COMPLETE THE CODE FROM HERE:\n",
        "    \n",
        "    if Choice== 'Y' :                     # If the user wants to query \n",
        "         \n",
        "         PrintResult(*GetQuery())                        #Use some of the past defined function to do so\n",
        "        \n",
        "    else:\n",
        "        \n",
        "        break                                 #Else end the loop"
      ],
      "id": "b5LvL0TQnn8s",
      "execution_count": 39,
      "outputs": [
        {
          "output_type": "stream",
          "text": [
            "Press Y to query or N to endY\n",
            "Enter a word the\n",
            "Enter a no. 3\n",
            "Dursleys shuddered to\n",
            " think what the neighbors would say if the \n",
            "\n",
            "the neighbors would say if the Potters arrived in the\n",
            " street \n",
            "\n",
            "street The Dursleys knew that the Potters had a small son \n",
            "\n",
            "Press Y to query or N to endY\n",
            "Enter a word Harry\n",
            "Enter a no. 2\n",
            "\n",
            " “— yes their son Harry —”\n",
            " \n",
            " Mr Dursley stopped \n",
            "\n",
            "who had a son called Harry Come to think of it \n",
            "\n",
            "Press Y to query or N to endY\n",
            "Enter a word not\n",
            "Enter a no. 5\n",
            "office\n",
            " snapped at his secretary not to disturb him seized his \n",
            "\n",
            "house He was still determined not to\n",
            " mention anything to his \n",
            "\n",
            "know about that but\n",
            " it’s not only the owls that have \n",
            "\n",
            "Bonfire Night early — it’s not until next week folks But \n",
            "\n",
            "the streets in broad daylight not even dressed in Muggle\n",
            " clothes \n",
            "\n",
            "Press Y to query or N to endY\n",
            "Enter a word relax\n",
            "Enter a no. 25\n",
            "ones It was hard to relax with Hermione next to you \n",
            "\n",
            "was too hot\n",
            " \n",
            " “Harry relax Hermione’s right the Stone’s safe \n",
            "\n",
            "I —”\n",
            " \n",
            " “Harry please relax or Madam Pomfrey will have \n",
            "\n",
            "Press Y to query or N to endY\n",
            "Enter a word not\n",
            "Enter a no. 15\n",
            "office\n",
            " snapped at his secretary not to disturb him seized his \n",
            "\n",
            "house He was still determined not to\n",
            " mention anything to his \n",
            "\n",
            "know about that but\n",
            " it’s not only the owls that have \n",
            "\n",
            "Bonfire Night early — it’s not until next week folks But \n",
            "\n",
            "the streets in broad daylight not even dressed in Muggle\n",
            " clothes \n",
            "\n",
            "unsticking two lemon drops seemed not to no¬\n",
            " tice “It all \n",
            "\n",
            "“everyone” was saying she was not going\n",
            " \n",
            " \n",
            " 4 114\n",
            " \n",
            "\n",
            "another lemon drop and did not answer\n",
            " \n",
            " “What they’re saying \n",
            "\n",
            "as she went on “That’s\n",
            " not all They’re saying he tried \n",
            "\n",
            "life” said Dumbledore\n",
            " \n",
            " “I’m not saying his heart isn’t in \n",
            "\n",
            "“but you can’t pretend he’s not careless\n",
            " He does tend to \n",
            "\n",
            "him and he slept on not knowing he was special not \n",
            "\n",
            "not knowing he was special not know¬\n",
            " ing he was famous \n",
            "\n",
            "know¬\n",
            " ing he was famous not knowing he would be woken \n",
            "\n",
            "*\n",
            " *\n",
            " \n",
            " \n",
            " wanted not to mention the second television \n",
            "\n",
            "Press Y to query or N to endN\n"
          ],
          "name": "stdout"
        }
      ]
    },
    {
      "cell_type": "code",
      "metadata": {
        "id": "bf3a3699"
      },
      "source": [
        ""
      ],
      "id": "bf3a3699",
      "execution_count": null,
      "outputs": []
    }
  ]
}